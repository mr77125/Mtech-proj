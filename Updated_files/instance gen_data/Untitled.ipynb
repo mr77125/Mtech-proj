{
 "cells": [
  {
   "cell_type": "code",
   "execution_count": 3,
   "metadata": {},
   "outputs": [
    {
     "name": "stdout",
     "output_type": "stream",
     "text": [
      "C:\\Users\\Muniraju B N\\Desktop\\Authorship-Attribution-Compression_method-main\\instance gen_data - - Copy\n"
     ]
    }
   ],
   "source": [
    "# Python program to rename all file\n",
    "# names in your directory\n",
    "import os\n",
    "import shutil\n",
    "os.chdir(r'C:\\Users\\Muniraju B N\\Desktop\\Authorship-Attribution-Compression_method-main\\instance gen_data - - Copy')\n",
    "print(os.getcwd())\n",
    "COUNT = 1\n",
    "\n",
    "# Function to increment count\n",
    "# to make the files sorted.\n",
    "def increment():\n",
    "\tglobal COUNT\n",
    "\tCOUNT = COUNT + 1\n",
    "\n",
    "\n",
    "for f in os.listdir():\n",
    "\tf_name, f_ext = os.path.splitext(f)\n",
    "\tf_name = (\"instance\"+str(COUNT))\n",
    "\tincrement()\n",
    "\n",
    "\tnew_name = '{} {}'.format(f_name,f_ext)\n",
    "\tos.rename(f, new_name)\n",
    "    \n",
    "##for f in os.listdir():\n",
    "    #src = r'C:\\Users\\Muniraju B N\\Desktop\\Authorship-Attribution-Compression_method-main\\Instances - Copy\\9.KT GATTI'\n",
    "    ##dest = r'C:\\Users\\Muniraju B N\\Desktop\\Authorship-Attribution-Compression_method-main\\Instances - Copy\\New folder'\n",
    "    #shutil.move(f,dest ) \n",
    "    #shutil.copytree(src, dest)\n",
    "    #shutil.move(src, dest, copy_function = shutil.copytree)\n",
    "   ## shutil.copy(f, dest)\n"
   ]
  },
  {
   "cell_type": "code",
   "execution_count": 1,
   "metadata": {},
   "outputs": [],
   "source": [
    "import os\n",
    "os.chdir(r'C:\\Users\\Muniraju B N\\Desktop\\Authorship-Attribution-Compression_method-main\\instance gen_data - Copy')\n",
    "for f in os.listdir(\".\"):\n",
    "    r = f.replace(\" \",\"\")\n",
    "    if( r != f):\n",
    "        os.rename(f,r)"
   ]
  },
  {
   "cell_type": "code",
   "execution_count": null,
   "metadata": {},
   "outputs": [],
   "source": []
  }
 ],
 "metadata": {
  "kernelspec": {
   "display_name": "Python 3",
   "language": "python",
   "name": "python3"
  },
  "language_info": {
   "codemirror_mode": {
    "name": "ipython",
    "version": 3
   },
   "file_extension": ".py",
   "mimetype": "text/x-python",
   "name": "python",
   "nbconvert_exporter": "python",
   "pygments_lexer": "ipython3",
   "version": "3.7.4"
  }
 },
 "nbformat": 4,
 "nbformat_minor": 4
}
